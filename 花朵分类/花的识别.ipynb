{
 "cells": [
  {
   "cell_type": "markdown",
   "metadata": {},
   "source": [
    "# CNN模型：图片识别"
   ]
  },
  {
   "cell_type": "markdown",
   "metadata": {},
   "source": [
    "作者：吴凡璐   \n",
    "学校：中央财经大学   \n",
    "学号：2018210803"
   ]
  },
  {
   "cell_type": "markdown",
   "metadata": {},
   "source": [
    "### 花朵分类 "
   ]
  },
  {
   "cell_type": "markdown",
   "metadata": {},
   "source": [
    "**数据集介绍**  \n",
    "\n",
    "本次数据存储于一个文件夹中的三个子文件夹，每一个文件夹包含了一种花，分别是\n",
    "* daisy: 雏菊\n",
    "* dandelion: 蒲公英\n",
    "* sunflowers: 太阳花  \n",
    "\n",
    "本案例将使用CNN模型对这三种花进行区分"
   ]
  },
  {
   "cell_type": "code",
   "execution_count": 26,
   "metadata": {},
   "outputs": [
    {
     "name": "stdout",
     "output_type": "stream",
     "text": [
      "daisy count:633\n",
      "dandelion count:898\n",
      "sunflowers count:699\n"
     ]
    }
   ],
   "source": [
    "%matplotlib inline\n",
    "import seaborn as sns\n",
    "import os\n",
    "import shutil\n",
    "import random\n",
    "\n",
    "# 从https://www.kaggle.com/c/dogs-vs-cats/data下载完整的样本集train.zip，解压到下面的目录\n",
    "train = 'C:/Users/wufan/Desktop/data/flowers' \n",
    "\n",
    "daisy = [train+'/daisy/'+i for i in os.listdir(train+'/daisy')] # 所有狗的图片所在路径的集合\n",
    "dandelion = [train+ '/dandelion/'+i for i in os.listdir(train+'/dandelion')]\n",
    "sunflowers = [train+'/sunflowers/'+i for i in os.listdir(train+'/sunflowers')]\n",
    "print('daisy count:' + str(len(daisy)))\n",
    "print('dandelion count:' + str(len(dandelion)))\n",
    "print('sunflowers count:' + str(len(sunflowers)))"
   ]
  },
  {
   "cell_type": "markdown",
   "metadata": {},
   "source": [
    "由计数结果可知，daisy有633张图片，dandelion有898张图片，sunflowers有699张图片。在生成训练集和测试集时，我们将每个种类中1/3的图片划分为测试集，把2/3的图片划分为训练集，具体如下："
   ]
  },
  {
   "cell_type": "markdown",
   "metadata": {},
   "source": [
    "| 花的种类        | 训练集数量           | 测试集数量  |\n",
    "| ------------- |:-------------:| -----:|\n",
    "| daisy      | 422 | 211 |\n",
    "| dandelion      | 598      |   300 |\n",
    "| sunflowers | 466      |    233 |"
   ]
  },
  {
   "cell_type": "code",
   "execution_count": 37,
   "metadata": {},
   "outputs": [],
   "source": [
    "target = 'C:/Users/wufan/Desktop/data/arrange/' # 目标训练集地址\n",
    "\n",
    "# 随机化\n",
    "random.shuffle(daisy)\n",
    "random.shuffle(dandelion)\n",
    "random.shuffle(sunflowers)\n",
    "\n",
    "def ensure_dir(dir_path):\n",
    "    if not os.path.exists(dir_path):\n",
    "        try:\n",
    "            os.makedirs(dir_path)\n",
    "        except OSError:\n",
    "            pass\n",
    "\n",
    "# 生成文件夹\n",
    "for flower in ['daisy','dandelion','sunflowers']:   \n",
    "    ensure_dir(target + 'train/'+flower)\n",
    "    ensure_dir(target + 'validation/'+flower)\n",
    "\n",
    "# 复制图片\n",
    "flower_list=[daisy,dandelion,sunflowers]\n",
    "flower_name=['daisy','dandelion','sunflowers']\n",
    "for i in range(len(flower_name)):\n",
    "    sub_list=flower_list[i]\n",
    "    for file in sub_list[0:int(2/3*len(sub_list))]:\n",
    "        shutil.copyfile(file, target + 'train/'+flower_name[i]+'/' + os.path.basename(file))\n",
    "    for file in sub_list[int(2/3*len(sub_list)):]:\n",
    "        shutil.copyfile(file, target + 'validation/'+flower_name[i]+'/' + os.path.basename(file))"
   ]
  },
  {
   "cell_type": "markdown",
   "metadata": {},
   "source": [
    "生成完训练集和测试集后，测试一下划分的是否正确，以雏菊图片为例："
   ]
  },
  {
   "cell_type": "code",
   "execution_count": 45,
   "metadata": {},
   "outputs": [
    {
     "name": "stdout",
     "output_type": "stream",
     "text": [
      "dandelion训练集中的图片个数是：598\n",
      "dandelion测试集集中的图片个数是：300\n"
     ]
    }
   ],
   "source": [
    "d1 = [i for i in os.listdir('C:/Users/wufan/Desktop/data/arrange/train/dandelion')]\n",
    "d2 = [i for i in os.listdir('C:/Users/wufan/Desktop/data/arrange/validation/dandelion')]# 所有狗的图片所在路径的集合\n",
    "print ('dandelion训练集中的图片个数是：'+str(len(d1)))\n",
    "print ('dandelion测试集集中的图片个数是：'+str(len(d2)))\n",
    "#d2 = [train+ '/dandelion/'+i for i in os.listdir(train+'/dandelion')]"
   ]
  },
  {
   "cell_type": "markdown",
   "metadata": {},
   "source": [
    "使用数据增强技术对训练数据进行微小的扰动或者变化，提升模型的泛化能力和鲁棒性。"
   ]
  },
  {
   "cell_type": "code",
   "execution_count": 46,
   "metadata": {},
   "outputs": [
    {
     "name": "stderr",
     "output_type": "stream",
     "text": [
      "C:\\Users\\wufan\\Anaconda3\\lib\\site-packages\\h5py\\__init__.py:36: FutureWarning: Conversion of the second argument of issubdtype from `float` to `np.floating` is deprecated. In future, it will be treated as `np.float64 == np.dtype(float).type`.\n",
      "  from ._conv import register_converters as _register_converters\n",
      "Using TensorFlow backend.\n"
     ]
    }
   ],
   "source": [
    "from keras.preprocessing.image import ImageDataGenerator\n",
    "\n",
    "# 图片尺寸\n",
    "img_width, img_height = 128, 128\n",
    "input_shape = (img_width, img_height, 3)\n",
    "\n",
    "train_data_dir = target + 'train'\n",
    "validation_data_dir = target + 'validation'\n",
    "\n",
    "# 生成变形图片\n",
    "train_pic_gen = ImageDataGenerator(\n",
    "        rescale=1./255, # 对输入图片归一化到0-1区间\n",
    "        rotation_range=20, \n",
    "        width_shift_range=0.2, \n",
    "        height_shift_range=0.2, \n",
    "        shear_range=0.2, \n",
    "        zoom_range=0.5, \n",
    "        horizontal_flip=True, # 水平翻转\n",
    "        fill_mode='nearest')\n",
    "\n",
    "# 测试集不做变形处理，只需要归一化。\n",
    "validation_pic_gen = ImageDataGenerator(rescale=1./255)"
   ]
  },
  {
   "cell_type": "code",
   "execution_count": 47,
   "metadata": {},
   "outputs": [
    {
     "name": "stdout",
     "output_type": "stream",
     "text": [
      "Found 1486 images belonging to 3 classes.\n",
      "Found 744 images belonging to 3 classes.\n"
     ]
    }
   ],
   "source": [
    "# 按文件夹生成训练集流和标签，categorical：多分类   \n",
    "train_flow = train_pic_gen.flow_from_directory(\n",
    "        train_data_dir,\n",
    "        target_size=(img_width, img_height),\n",
    "        batch_size=32,\n",
    "        class_mode='categorical')\n",
    "\n",
    "# 按文件夹生成测试集流和标签\n",
    "validation_flow = validation_pic_gen.flow_from_directory(\n",
    "        validation_data_dir,\n",
    "        target_size=(img_width, img_height),\n",
    "        batch_size=32,\n",
    "        class_mode='categorical')#categorical"
   ]
  },
  {
   "cell_type": "markdown",
   "metadata": {},
   "source": [
    "首先搭建最简单的CNN模型："
   ]
  },
  {
   "cell_type": "code",
   "execution_count": 48,
   "metadata": {},
   "outputs": [],
   "source": [
    "from keras.models import Sequential\n",
    "from keras.layers import Convolution2D, MaxPooling2D\n",
    "from keras.layers import Activation, Dropout, Flatten, Dense\n",
    "\n",
    "steps_per_epoch = 2000  \n",
    "validation_steps = 1000\n",
    "epochs = 1\n",
    "#epochs = 50 # 循环50轮\n",
    "\n",
    "# 两层卷积-池化，提取64个平面特征\n",
    "model = Sequential([\n",
    "Convolution2D(32, (3, 3), input_shape=input_shape, activation='relu'),\n",
    "MaxPooling2D(pool_size=(2, 2)),\n",
    "Convolution2D(64, (3, 3), activation='relu'),\n",
    "MaxPooling2D(pool_size=(2, 2)),\n",
    "Flatten(),\n",
    "Dense(64, activation='relu'),\n",
    "Dropout(0.5),\n",
    "Dense(3, activation='softmax'),\n",
    "])\n",
    "\n",
    "# 损失函数设置为多分类交叉熵\n",
    "model.compile(loss='categorical_crossentropy',\n",
    "              optimizer='rmsprop',\n",
    "              metrics=['accuracy'])"
   ]
  },
  {
   "cell_type": "code",
   "execution_count": 49,
   "metadata": {},
   "outputs": [
    {
     "name": "stdout",
     "output_type": "stream",
     "text": [
      "Epoch 1/1\n",
      "2000/2000 [==============================] - 1844s 922ms/step - loss: 0.5740 - acc: 0.7746 - val_loss: 0.4352 - val_acc: 0.8426\n"
     ]
    },
    {
     "data": {
      "text/plain": [
       "<keras.callbacks.History at 0x1709fd68748>"
      ]
     },
     "execution_count": 49,
     "metadata": {},
     "output_type": "execute_result"
    }
   ],
   "source": [
    "model.fit_generator(\n",
    "        train_flow,\n",
    "        steps_per_epoch=steps_per_epoch,\n",
    "        epochs=epochs,\n",
    "        validation_data=validation_flow,\n",
    "        validation_steps=validation_steps)"
   ]
  },
  {
   "cell_type": "markdown",
   "metadata": {},
   "source": [
    "得到的模型在训练集上准确率是0.77，测试集准确率是0.84，还有待提升"
   ]
  },
  {
   "cell_type": "code",
   "execution_count": 51,
   "metadata": {},
   "outputs": [],
   "source": [
    "model.save('C:/Users/wufan/Desktop/data/flowers/model.h5') # 保存权重"
   ]
  },
  {
   "cell_type": "code",
   "execution_count": 50,
   "metadata": {},
   "outputs": [
    {
     "name": "stdout",
     "output_type": "stream",
     "text": [
      "_________________________________________________________________\n",
      "Layer (type)                 Output Shape              Param #   \n",
      "=================================================================\n",
      "conv2d_1 (Conv2D)            (None, 126, 126, 32)      896       \n",
      "_________________________________________________________________\n",
      "max_pooling2d_1 (MaxPooling2 (None, 63, 63, 32)        0         \n",
      "_________________________________________________________________\n",
      "conv2d_2 (Conv2D)            (None, 61, 61, 64)        18496     \n",
      "_________________________________________________________________\n",
      "max_pooling2d_2 (MaxPooling2 (None, 30, 30, 64)        0         \n",
      "_________________________________________________________________\n",
      "flatten_1 (Flatten)          (None, 57600)             0         \n",
      "_________________________________________________________________\n",
      "dense_1 (Dense)              (None, 64)                3686464   \n",
      "_________________________________________________________________\n",
      "dropout_1 (Dropout)          (None, 64)                0         \n",
      "_________________________________________________________________\n",
      "dense_2 (Dense)              (None, 3)                 195       \n",
      "=================================================================\n",
      "Total params: 3,706,051\n",
      "Trainable params: 3,706,051\n",
      "Non-trainable params: 0\n",
      "_________________________________________________________________\n"
     ]
    }
   ],
   "source": [
    "model.summary() # 查看模型基本架构"
   ]
  },
  {
   "cell_type": "markdown",
   "metadata": {},
   "source": [
    "# 微训练模型（fine-tuning）"
   ]
  },
  {
   "cell_type": "markdown",
   "metadata": {},
   "source": [
    "利用一些已经训练好的模型来进行迁移学习，以期提高准确率，采用VGG16作为基准模型"
   ]
  },
  {
   "cell_type": "code",
   "execution_count": 52,
   "metadata": {},
   "outputs": [
    {
     "name": "stdout",
     "output_type": "stream",
     "text": [
      "Downloading data from https://github.com/fchollet/deep-learning-models/releases/download/v0.5/inception_v3_weights_tf_dim_ordering_tf_kernels.h5\n",
      "96116736/96112376 [==============================] - 651s 7us/step\n"
     ]
    }
   ],
   "source": [
    "from keras.applications.inception_v3 import InceptionV3\n",
    "\n",
    "base_model = InceptionV3(weights='imagenet')"
   ]
  },
  {
   "cell_type": "code",
   "execution_count": 53,
   "metadata": {},
   "outputs": [],
   "source": [
    "from keras.models import Model\n",
    "from keras.optimizers import SGD\n",
    "from keras.applications.vgg16 import VGG16\n",
    "\n",
    "# 图片尺寸\n",
    "img_width, img_height = 128, 128\n",
    "input_shape = (img_width, img_height, 3)"
   ]
  },
  {
   "cell_type": "code",
   "execution_count": 54,
   "metadata": {},
   "outputs": [
    {
     "name": "stdout",
     "output_type": "stream",
     "text": [
      "Downloading data from https://github.com/fchollet/deep-learning-models/releases/download/v0.1/vgg16_weights_tf_dim_ordering_tf_kernels_notop.h5\n",
      "58892288/58889256 [==============================] - 469s 8us/step\n"
     ]
    }
   ],
   "source": [
    "base_model = VGG16(weights='imagenet', include_top=False, input_shape=input_shape)"
   ]
  },
  {
   "cell_type": "code",
   "execution_count": 55,
   "metadata": {},
   "outputs": [],
   "source": [
    "from keras.layers import Dropout, Flatten, Dense\n",
    "\n",
    "x = base_model.output\n",
    "x = Flatten()(x)\n",
    "x = Dense(256, activation='relu')(x)\n",
    "x = Dropout(0.5)(x)\n",
    "y = Dense(3, activation='softmax')(x)\n",
    "\n",
    "model = Model(inputs=base_model.input, outputs=y)"
   ]
  },
  {
   "cell_type": "code",
   "execution_count": 60,
   "metadata": {},
   "outputs": [
    {
     "name": "stdout",
     "output_type": "stream",
     "text": [
      "Found 1486 images belonging to 3 classes.\n",
      "Found 744 images belonging to 3 classes.\n"
     ]
    }
   ],
   "source": [
    "from keras.preprocessing.image import ImageDataGenerator\n",
    "\n",
    "# 数据地址\n",
    "target = 'C:/Users/wufan/Desktop/data/arrange/'\n",
    "train_data_dir = target + 'train'\n",
    "validation_data_dir = target + 'validation'\n",
    "\n",
    "# 模型参数\n",
    "steps_per_epoch = 500\n",
    "validation_steps = 100\n",
    "epochs = 1\n",
    "#epochs = 50 # 循环50轮\n",
    "\n",
    "# 生成变形图片，并做去均值处理\n",
    "train_pic_gen = ImageDataGenerator(\n",
    "        rescale=1./255,\n",
    "        shear_range=0.2,\n",
    "        zoom_range=0.2,\n",
    "        horizontal_flip=True)\n",
    "\n",
    "# 测试集不做变形处理，只需要去均值\n",
    "validation_pic_gen = ImageDataGenerator(rescale=1./255)\n",
    "\n",
    "# 按文件夹生成训练集流和标签\n",
    "train_flow = train_pic_gen.flow_from_directory(\n",
    "        train_data_dir,\n",
    "        target_size=(img_width, img_height),\n",
    "        batch_size=32,\n",
    "        class_mode='categorical')\n",
    "\n",
    "# 按文件夹生成测试集流和标签\n",
    "validation_flow = validation_pic_gen.flow_from_directory(\n",
    "        validation_data_dir,\n",
    "        target_size=(img_width, img_height),\n",
    "        batch_size=32,\n",
    "        class_mode='categorical')"
   ]
  },
  {
   "cell_type": "code",
   "execution_count": 61,
   "metadata": {},
   "outputs": [],
   "source": [
    "# 冻结VGG中ImageNet的CNN结构部分，让ImageNet训练好的参数不变\n",
    "for layer in base_model.layers:\n",
    "    layer.trainable = False "
   ]
  },
  {
   "cell_type": "code",
   "execution_count": 62,
   "metadata": {},
   "outputs": [
    {
     "name": "stdout",
     "output_type": "stream",
     "text": [
      "Epoch 1/1\n",
      "500/500 [==============================] - 3675s 7s/step - loss: 0.4682 - acc: 0.8210 - val_loss: 0.4247 - val_acc: 0.8521\n"
     ]
    },
    {
     "data": {
      "text/plain": [
       "<keras.callbacks.History at 0x170af5f2d68>"
      ]
     },
     "execution_count": 62,
     "metadata": {},
     "output_type": "execute_result"
    }
   ],
   "source": [
    "model.compile(optimizer='rmsprop',\n",
    "              loss='categorical_crossentropy',  # 更换成多分类交叉熵\n",
    "              metrics=['accuracy'])\n",
    "\n",
    "\n",
    "model.fit_generator(\n",
    "        train_flow,\n",
    "        steps_per_epoch=steps_per_epoch,\n",
    "        epochs=epochs,\n",
    "        validation_data=validation_flow,\n",
    "        validation_steps=validation_steps)"
   ]
  },
  {
   "cell_type": "markdown",
   "metadata": {},
   "source": [
    "初步迁移学习得到的模型在训练集上的准确率为0.82，在测试集上的准确为0.85"
   ]
  },
  {
   "cell_type": "code",
   "execution_count": 63,
   "metadata": {},
   "outputs": [],
   "source": [
    "model.save_weights('C:/Users/wufan/Desktop/data/flowers/merge_model.h5') # 保存模型"
   ]
  },
  {
   "cell_type": "markdown",
   "metadata": {},
   "source": [
    "### 微调连接部分"
   ]
  },
  {
   "cell_type": "code",
   "execution_count": 64,
   "metadata": {},
   "outputs": [
    {
     "name": "stdout",
     "output_type": "stream",
     "text": [
      "0 input_2\n",
      "1 block1_conv1\n",
      "2 block1_conv2\n",
      "3 block1_pool\n",
      "4 block2_conv1\n",
      "5 block2_conv2\n",
      "6 block2_pool\n",
      "7 block3_conv1\n",
      "8 block3_conv2\n",
      "9 block3_conv3\n",
      "10 block3_pool\n",
      "11 block4_conv1\n",
      "12 block4_conv2\n",
      "13 block4_conv3\n",
      "14 block4_pool\n",
      "15 block5_conv1\n",
      "16 block5_conv2\n",
      "17 block5_conv3\n",
      "18 block5_pool\n",
      "19 flatten_2\n",
      "20 dense_3\n",
      "21 dropout_2\n",
      "22 dense_4\n"
     ]
    }
   ],
   "source": [
    "for i, layer in enumerate(model.layers):\n",
    "   print(i, layer.name)"
   ]
  },
  {
   "cell_type": "code",
   "execution_count": 65,
   "metadata": {},
   "outputs": [],
   "source": [
    "for layer in model.layers[:15]:\n",
    "    layer.trainable = False\n",
    "for layer in model.layers[15:]:\n",
    "    layer.trainable = True"
   ]
  },
  {
   "cell_type": "code",
   "execution_count": 66,
   "metadata": {},
   "outputs": [
    {
     "name": "stdout",
     "output_type": "stream",
     "text": [
      "Epoch 1/1\n",
      "500/500 [==============================] - 7686s 15s/step - loss: 0.1541 - acc: 0.9439 - val_loss: 0.3534 - val_acc: 0.8898\n"
     ]
    },
    {
     "data": {
      "text/plain": [
       "<keras.callbacks.History at 0x170af5f2c18>"
      ]
     },
     "execution_count": 66,
     "metadata": {},
     "output_type": "execute_result"
    }
   ],
   "source": [
    "model.compile(loss='categorical_crossentropy',\n",
    "              optimizer=SGD(lr=1e-4, momentum=0.9),\n",
    "              metrics=['accuracy'])\n",
    "\n",
    "# 微调训练\n",
    "model.fit_generator(\n",
    "        train_flow,\n",
    "        steps_per_epoch=steps_per_epoch,\n",
    "        epochs=epochs,\n",
    "        validation_data=validation_flow,\n",
    "        validation_steps=validation_steps)"
   ]
  },
  {
   "cell_type": "markdown",
   "metadata": {},
   "source": [
    "最后微调后得到的模型训练集准确率为0.94，测试集准确率为0.89，可能存在一定的过拟合现象。"
   ]
  }
 ],
 "metadata": {
  "kernelspec": {
   "display_name": "Python 3",
   "language": "python",
   "name": "python3"
  },
  "language_info": {
   "codemirror_mode": {
    "name": "ipython",
    "version": 3
   },
   "file_extension": ".py",
   "mimetype": "text/x-python",
   "name": "python",
   "nbconvert_exporter": "python",
   "pygments_lexer": "ipython3",
   "version": "3.6.5"
  }
 },
 "nbformat": 4,
 "nbformat_minor": 2
}
